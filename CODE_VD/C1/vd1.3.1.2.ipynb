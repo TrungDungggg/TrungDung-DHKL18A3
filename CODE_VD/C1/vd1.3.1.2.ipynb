{
 "cells": [
  {
   "cell_type": "code",
   "execution_count": null,
   "id": "61736f8d",
   "metadata": {},
   "outputs": [
    {
     "name": "stdout",
     "output_type": "stream",
     "text": [
      "bull age is: 2\n",
      "setter for age called\n",
      "getter for age called\n",
      "bull update age is:3\n"
     ]
    }
   ],
   "source": [
    "class Dog:\n",
    "    def __init__(self,name,size,age,color):\n",
    "        self._name = name\n",
    "        self._size = size\n",
    "        self.__age = age\n",
    "        self.__color = color\n",
    "    @property\n",
    "    def age(self):\n",
    "        print(\"getter for age called\")       \n",
    "        if not hasattr(self, \"_Dog__age\"):\n",
    "            raise AttributeError(\"Age has been delete or not set\")\n",
    "        return self.__age\n",
    "    @age.setter\n",
    "    def age(self,value):\n",
    "        print(\"setter for age called\")\n",
    "        if value <0:\n",
    "            raise ValueError(\"Age can't be nagative\")\n",
    "        self.__age = value\n",
    "    @age.deleter\n",
    "    def age(self):\n",
    "        print(\"deleter for age called\")\n",
    "        if not hasattr(self,\"_Dog__age\"):\n",
    "            raise AttributeError(\"Age has already been deleted or not set\")\n",
    "        del self.__age\n",
    "    dog = Dog(\"Bull\",\"small\",2,\"Red\")\n",
    "    print(f\"bull age is: {dog.__age}\")\n",
    "    dog.age = 3 \n",
    "    print(f\"bull update age is:{dog.age}\")\n",
    "    \n",
    "    "
   ]
  }
 ],
 "metadata": {
  "kernelspec": {
   "display_name": "Python 3",
   "language": "python",
   "name": "python3"
  },
  "language_info": {
   "codemirror_mode": {
    "name": "ipython",
    "version": 3
   },
   "file_extension": ".py",
   "mimetype": "text/x-python",
   "name": "python",
   "nbconvert_exporter": "python",
   "pygments_lexer": "ipython3",
   "version": "3.13.7"
  }
 },
 "nbformat": 4,
 "nbformat_minor": 5
}

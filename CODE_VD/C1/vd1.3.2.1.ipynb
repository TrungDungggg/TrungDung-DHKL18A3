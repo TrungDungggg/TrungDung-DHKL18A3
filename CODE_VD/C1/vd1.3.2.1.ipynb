{
 "cells": [
  {
   "cell_type": "code",
   "execution_count": 14,
   "id": "ea9eeeb0",
   "metadata": {},
   "outputs": [
    {
     "name": "stdout",
     "output_type": "stream",
     "text": [
      "Im bull\n",
      "Im going to garden\n"
     ]
    }
   ],
   "source": [
    "class Animal:\n",
    "    def __init__(self,name):\n",
    "        self._name = name\n",
    "    def display(self):\n",
    "        print(\"Im {}\".format(self._name))\n",
    "class Dog(Animal):\n",
    "    def __init__(self, name,size,age,color):\n",
    "        super().__init__(name)\n",
    "        self.size = size\n",
    "        self.age = age \n",
    "        self.color = color\n",
    "    def Go(self,place):\n",
    "        print(\"Im going to {}\".format(place))\n",
    "obj1 = Dog(\"bull\",\"large\",2,\"Red\")\n",
    "obj1.display()\n",
    "obj1.Go(\"garden\")"
   ]
  },
  {
   "cell_type": "code",
   "execution_count": 15,
   "id": "68a500d5",
   "metadata": {},
   "outputs": [
    {
     "name": "stdout",
     "output_type": "stream",
     "text": [
      "Zebra\n",
      "Donkey\n",
      "Zonkey\n",
      "IM a zebra\n"
     ]
    }
   ],
   "source": [
    "# ví dụ 1.3.2.2\n",
    "class Zebra:\n",
    "    def __init__(self):\n",
    "        print(\"Zebra\")\n",
    "    def Display(self):\n",
    "        print(\"IM a zebra\")\n",
    "class Donkey:\n",
    "    def __init__(self):\n",
    "        print(\"Donkey\")\n",
    "    def Display(self):\n",
    "        print(\"Im a donkey\")\n",
    "class Zonkey(Zebra,Donkey):\n",
    "    def __init__(self):\n",
    "        Zebra.__init__(self)\n",
    "        Donkey.__init__(self)\n",
    "        print(\"Zonkey\")\n",
    "obj = Zonkey()\n",
    "obj.Display()"
   ]
  },
  {
   "cell_type": "code",
   "execution_count": 16,
   "id": "58e9c18d",
   "metadata": {},
   "outputs": [
    {
     "name": "stdout",
     "output_type": "stream",
     "text": [
      "Tôi là Lớp Cháu, tên của tôi là Cháu C\n",
      "Tôi là Lớp Con, tên của tôi là Bác B\n",
      "Tôi là Lớp Cha, tên của tôi là Ông A\n"
     ]
    }
   ],
   "source": [
    "#vd 1.3.2.3\n",
    "class LopCha: \n",
    "    def __init__(self, ten_cha): \n",
    "        self.ten_cha = ten_cha \n",
    "    def thong_tin(self): \n",
    "        print(\"Tôi là Lớp Cha, tên của tôi là\", self.ten_cha) \n",
    "class LopCon(LopCha): \n",
    "    def __init__(self, ten_cha, ten_con): \n",
    "        super().__init__(ten_cha) \n",
    "        self.ten_con = ten_con \n",
    "    def thong_tin(self): \n",
    "        print(\"Tôi là Lớp Con, tên của tôi là\", self.ten_con) \n",
    "        super().thong_tin() \n",
    "class LopChau(LopCon): \n",
    "    def __init__(self, ten_cha, ten_con, ten_chau): \n",
    "        super().__init__(ten_cha, ten_con) \n",
    "        self.ten_chau = ten_chau \n",
    "    def thong_tin(self): \n",
    "        print(\"Tôi là Lớp Cháu, tên của tôi là\", self.ten_chau) \n",
    "        super().thong_tin() \n",
    "lop_chau = LopChau(\"Ông A\", \"Bác B\", \"Cháu C\") \n",
    "lop_chau.thong_tin()"
   ]
  },
  {
   "cell_type": "code",
   "execution_count": 17,
   "id": "5540e0fe",
   "metadata": {},
   "outputs": [
    {
     "name": "stdout",
     "output_type": "stream",
     "text": [
      "Nhiều con chim có thể bay\n",
      "chim sẻ có thể bay\n",
      "Đà điểu kh thể bay\n"
     ]
    }
   ],
   "source": [
    "#vd 1.3.3.1\n",
    "class Bird:\n",
    "    def bay(self):\n",
    "        print(\"Nhiều con chim có thể bay\")\n",
    "class ChimSe(Bird):\n",
    "    def bay(self):\n",
    "        print(\"chim sẻ có thể bay\")\n",
    "class DaDieu(Bird):\n",
    "    def bay(self):\n",
    "        print(\"Đà điểu kh thể bay\")\n",
    "obj1 = Bird()\n",
    "obj2 = ChimSe()\n",
    "obj3 = DaDieu()\n",
    "obj1.bay()\n",
    "obj2.bay()\n",
    "obj3.bay()\n"
   ]
  },
  {
   "cell_type": "code",
   "execution_count": null,
   "id": "0f667708",
   "metadata": {},
   "outputs": [
    {
     "ename": "_IncompleteInputError",
     "evalue": "incomplete input (1936440243.py, line 3)",
     "output_type": "error",
     "traceback": [
      "  \u001b[36mCell\u001b[39m\u001b[36m \u001b[39m\u001b[32mIn[18]\u001b[39m\u001b[32m, line 3\u001b[39m\n\u001b[31m    \u001b[39m\u001b[31mclass Animal(ABC):\u001b[39m\n                      ^\n\u001b[31m_IncompleteInputError\u001b[39m\u001b[31m:\u001b[39m incomplete input\n"
     ]
    }
   ],
   "source": [
    "#vd 1.3.4.1 \n",
    "from abc import ABC, abstractclassmethod\n",
    "class Animal(ABC):\n",
    "    @abstractclassmethod\n",
    "    def Say(self):\n",
    "        pass\n",
    "class Dog(Animal):\n",
    "    def Say(self):\n",
    "        print(\"Gau gau\")\n",
    "class Cat(Animal):\n",
    "    def Say(self):\n",
    "        print(\"meo meo\")\n",
    "    def Jump(self):\n",
    "        print(\"Im jumping up high\")\n",
    "obj_dog = Dog()\n",
    "obj_dog.Say()\n",
    "obj"
   ]
  }
 ],
 "metadata": {
  "kernelspec": {
   "display_name": "Python 3",
   "language": "python",
   "name": "python3"
  },
  "language_info": {
   "codemirror_mode": {
    "name": "ipython",
    "version": 3
   },
   "file_extension": ".py",
   "mimetype": "text/x-python",
   "name": "python",
   "nbconvert_exporter": "python",
   "pygments_lexer": "ipython3",
   "version": "3.13.7"
  }
 },
 "nbformat": 4,
 "nbformat_minor": 5
}

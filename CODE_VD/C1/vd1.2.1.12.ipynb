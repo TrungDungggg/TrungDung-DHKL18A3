{
 "cells": [
  {
   "cell_type": "code",
   "execution_count": 8,
   "id": "98d00a29",
   "metadata": {},
   "outputs": [
    {
     "name": "stdout",
     "output_type": "stream",
     "text": [
      "A dog obj is being delete\n",
      "A dog obj is being delete\n",
      "Number of dogs: 0\n"
     ]
    }
   ],
   "source": [
    "class Dog:\n",
    "    DogCount = 0\n",
    "    def __init__(self,name,size,age,color):\n",
    "        self.name = name\n",
    "        self.size = size\n",
    "        self.age = age\n",
    "        self.color = color\n",
    "        Dog.DogCount = Dog.DogCount +1\n",
    "    def __del__ (self):\n",
    "        print(\"A dog obj is being delete\")\n",
    "        Dog.DogCount = Dog.DogCount -1 \n",
    "obj1 = Dog(\"bull\",\"large\",2,\"yellow\")\n",
    "obj2 = Dog(\"Poodle\",\"small\",1,\"white\")\n",
    "print (\"Number of dogs: {}\".format(Dog.DogCount)) "
   ]
  }
 ],
 "metadata": {
  "kernelspec": {
   "display_name": "Python 3",
   "language": "python",
   "name": "python3"
  },
  "language_info": {
   "codemirror_mode": {
    "name": "ipython",
    "version": 3
   },
   "file_extension": ".py",
   "mimetype": "text/x-python",
   "name": "python",
   "nbconvert_exporter": "python",
   "pygments_lexer": "ipython3",
   "version": "3.13.7"
  }
 },
 "nbformat": 4,
 "nbformat_minor": 5
}

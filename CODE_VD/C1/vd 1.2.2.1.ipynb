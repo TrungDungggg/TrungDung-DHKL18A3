{
 "cells": [
  {
   "cell_type": "code",
   "execution_count": 1,
   "id": "ef8b59ca",
   "metadata": {},
   "outputs": [
    {
     "name": "stdout",
     "output_type": "stream",
     "text": [
      "obj1 is a Dog\n",
      "obj2 is also a Dog\n",
      "Buddy is 5 years old\n",
      "Max is 3 years old\n"
     ]
    }
   ],
   "source": [
    "class Dog:\n",
    "    DogCount = 0\n",
    "    species = 'Dog'\n",
    "    def __init__(self,name,size,age,color):\n",
    "        self.name = name\n",
    "        self.size = size\n",
    "        self.age = age\n",
    "        self.color = color\n",
    "obj1 = Dog(\"Buddy\",\"Medium\",5,\"brown\")\n",
    "obj2 = Dog(\"Max\",\"small\",3,\"red\")\n",
    "print(\"obj1 is a {}\".format(obj1.__class__.species)) \n",
    "print(\"obj2 is also a {}\".format(obj2.__class__.species)) \n",
    "\n",
    "print(\"{} is {} years old\".format(obj1.name, obj1.age)) \n",
    "print(\"{} is {} years old\".format(obj2.name, obj2.age))\n"
   ]
  }
 ],
 "metadata": {
  "kernelspec": {
   "display_name": "Python 3",
   "language": "python",
   "name": "python3"
  },
  "language_info": {
   "codemirror_mode": {
    "name": "ipython",
    "version": 3
   },
   "file_extension": ".py",
   "mimetype": "text/x-python",
   "name": "python",
   "nbconvert_exporter": "python",
   "pygments_lexer": "ipython3",
   "version": "3.13.7"
  }
 },
 "nbformat": 4,
 "nbformat_minor": 5
}

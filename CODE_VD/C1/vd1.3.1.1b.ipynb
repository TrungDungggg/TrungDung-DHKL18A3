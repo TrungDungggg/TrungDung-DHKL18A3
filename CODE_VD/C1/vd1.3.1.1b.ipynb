{
 "cells": [
  {
   "cell_type": "code",
   "execution_count": 18,
   "id": "9554c057",
   "metadata": {},
   "outputs": [
    {
     "name": "stdout",
     "output_type": "stream",
     "text": [
      "Name is a Bull\n"
     ]
    }
   ],
   "source": [
    "class Dog:\n",
    "    \"minh họa protected\"\n",
    "    _DogCount = 0\n",
    "    def __init__(self,name: str,size:str,age:int):\n",
    "        self._name = name\n",
    "        Dog._DogCount +=1 \n",
    "    def _display(self):\n",
    "        print(f\"Name is a {self._name}\")\n",
    "d = Dog(\"Bull\",\"small\",2)\n",
    "d._display()"
   ]
  },
  {
   "cell_type": "markdown",
   "id": "3c34178f",
   "metadata": {},
   "source": [
    "VD1.3.1.1c private"
   ]
  },
  {
   "cell_type": "code",
   "execution_count": null,
   "id": "30f41057",
   "metadata": {},
   "outputs": [],
   "source": [
    "class Dog:\n",
    "    \"minh họa private\"\n",
    "    __DogCount = 0\n",
    "    def __init__(self,name: str,size:str,age:int):\n",
    "        self.__name = name\n",
    "        self.__size = size\n",
    "        self.__age = age\n",
    "        Dog.__DogCount +=1 \n",
    "    def __display(self):\n",
    "        print(f\"Name:{self.__name},Age:{self.__age}\")\n",
    "    def get_name(self):\n",
    "        return self.__name\n",
    "d = Dog(\"Bull\",\"small\",2)\n",
    "d._Dog__display()\n"
   ]
  },
  {
   "cell_type": "markdown",
   "id": "9f46340a",
   "metadata": {},
   "source": [
    "vd1.3.1.1 minh họa setter,getter"
   ]
  },
  {
   "cell_type": "code",
   "execution_count": null,
   "id": "39b9491b",
   "metadata": {},
   "outputs": [],
   "source": [
    "class Dog:\n",
    "    def __init__(self,name,size,age,color):\n",
    "        self._name = name\n",
    "        self._size = size\n",
    "        self.__age = age\n",
    "        self.__color = color\n",
    "@property\n",
    "def age(self):\n",
    "    print(\"getter for age called\")       \n",
    "    if not hasattr(self, \"_Dog__age\"):\n",
    "        raise AttributeError(\"Age has been delete or not set\")\n",
    "    return self.__age\n",
    "@age.setter\n",
    "def age(self,value):\n",
    "    print(\"setter for age called\")\n",
    "    if value <0:\n",
    "        raise ValueError(\"Age can't be nagative\")\n",
    "    self.__age = value\n",
    "@age.deleter\n",
    "def age(self):\n",
    "    print(\"deleter for age called\")\n",
    "    if not hasattr(self,\"_Dog__age\"):\n",
    "        raise AttributeError(\"Age has already been deleted or not set\")\n",
    "    del self.__age\n"
   ]
  }
 ],
 "metadata": {
  "kernelspec": {
   "display_name": "Python 3",
   "language": "python",
   "name": "python3"
  },
  "language_info": {
   "codemirror_mode": {
    "name": "ipython",
    "version": 3
   },
   "file_extension": ".py",
   "mimetype": "text/x-python",
   "name": "python",
   "nbconvert_exporter": "python",
   "pygments_lexer": "ipython3",
   "version": "3.13.7"
  }
 },
 "nbformat": 4,
 "nbformat_minor": 5
}

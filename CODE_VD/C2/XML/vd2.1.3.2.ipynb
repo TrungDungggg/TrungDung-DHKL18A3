{
 "cells": [
  {
   "cell_type": "code",
   "execution_count": 3,
   "id": "6112cb40",
   "metadata": {},
   "outputs": [
    {
     "name": "stdout",
     "output_type": "stream",
     "text": [
      "#document\n",
      "employee\n",
      "4 expertise:\n",
      "SQL\n",
      "Python\n",
      "Testing\n",
      "Business\n"
     ]
    }
   ],
   "source": [
    "import xml.dom.minidom \n",
    " \n",
    "def main(): \n",
    "       # use the parse() function to load and parse an XML file \n",
    "   doc = xml.dom.minidom.parse(\"employee.xml\"); \n",
    "   \n",
    "       # print out the document node and the name of the first child tag \n",
    "   print(doc.nodeName) \n",
    "   print(doc.firstChild.tagName) \n",
    "   \n",
    "       # get a list of XML tags from the document and print each one \n",
    "   expertise = doc.getElementsByTagName(\"expertise\") \n",
    "   print(\"%d expertise:\" % expertise.length) \n",
    "   for skill in expertise: \n",
    "     print(skill.getAttribute(\"name\")) \n",
    "if __name__==\"__main__\": \n",
    "   main()"
   ]
  }
 ],
 "metadata": {
  "kernelspec": {
   "display_name": "Python 3",
   "language": "python",
   "name": "python3"
  },
  "language_info": {
   "codemirror_mode": {
    "name": "ipython",
    "version": 3
   },
   "file_extension": ".py",
   "mimetype": "text/x-python",
   "name": "python",
   "nbconvert_exporter": "python",
   "pygments_lexer": "ipython3",
   "version": "3.13.7"
  }
 },
 "nbformat": 4,
 "nbformat_minor": 5
}

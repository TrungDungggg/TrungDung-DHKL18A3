{
 "cells": [
  {
   "cell_type": "code",
   "execution_count": 2,
   "id": "20b511e7",
   "metadata": {},
   "outputs": [
    {
     "name": "stdout",
     "output_type": "stream",
     "text": [
      "#document\n",
      "employee\n"
     ]
    }
   ],
   "source": [
    "import xml.dom.minidom \n",
    "\n",
    "def main(): \n",
    "    #Sử dụng hàm parse() để đọc và phân tích file \"employee.xml sau đó chuyển     \n",
    "          # đổi nó nó thành biến đối tượng 'doc'. \n",
    "    doc=xml.dom.minidom.parse(\"employee.xml\"); \n",
    " \n",
    "    #In ra In ra tên của node gốc và tag name của node đầu tiên  trong file .xml \n",
    "    print(doc.nodeName) \n",
    "    print(doc.firstChild.tagName) \n",
    "if __name__==\"__main__\": \n",
    "    main()"
   ]
  }
 ],
 "metadata": {
  "kernelspec": {
   "display_name": "Python 3",
   "language": "python",
   "name": "python3"
  },
  "language_info": {
   "codemirror_mode": {
    "name": "ipython",
    "version": 3
   },
   "file_extension": ".py",
   "mimetype": "text/x-python",
   "name": "python",
   "nbconvert_exporter": "python",
   "pygments_lexer": "ipython3",
   "version": "3.13.7"
  }
 },
 "nbformat": 4,
 "nbformat_minor": 5
}
